{
 "cells": [
  {
   "cell_type": "code",
   "execution_count": 2,
   "id": "9c52d133",
   "metadata": {},
   "outputs": [
    {
     "data": {
      "text/html": [
       "<div>\n",
       "<style scoped>\n",
       "    .dataframe tbody tr th:only-of-type {\n",
       "        vertical-align: middle;\n",
       "    }\n",
       "\n",
       "    .dataframe tbody tr th {\n",
       "        vertical-align: top;\n",
       "    }\n",
       "\n",
       "    .dataframe thead th {\n",
       "        text-align: right;\n",
       "    }\n",
       "</style>\n",
       "<table border=\"1\" class=\"dataframe\">\n",
       "  <thead>\n",
       "    <tr style=\"text-align: right;\">\n",
       "      <th></th>\n",
       "      <th>Number</th>\n",
       "      <th>City</th>\n",
       "      <th>Country</th>\n",
       "      <th>Region</th>\n",
       "      <th>Average Response (calculated)</th>\n",
       "      <th>USS Comment</th>\n",
       "      <th>String value</th>\n",
       "      <th>Sentiment</th>\n",
       "      <th>Updated</th>\n",
       "      <th>Year</th>\n",
       "      <th>Month-Year</th>\n",
       "      <th>Language</th>\n",
       "      <th>SA_Predicted Sentiment</th>\n",
       "      <th>Confidence</th>\n",
       "    </tr>\n",
       "  </thead>\n",
       "  <tbody>\n",
       "    <tr>\n",
       "      <th>0</th>\n",
       "      <td>INC19299231</td>\n",
       "      <td>Midrand</td>\n",
       "      <td>South Africa</td>\n",
       "      <td>EAME</td>\n",
       "      <td>1</td>\n",
       "      <td>speedy and excellent followup and communicatio...</td>\n",
       "      <td>Very Satisfied</td>\n",
       "      <td>Positive</td>\n",
       "      <td>2024-11-01 08:40:00</td>\n",
       "      <td>2024</td>\n",
       "      <td>November</td>\n",
       "      <td>english</td>\n",
       "      <td>Positive</td>\n",
       "      <td>0.928918</td>\n",
       "    </tr>\n",
       "    <tr>\n",
       "      <th>1</th>\n",
       "      <td>INC19296281</td>\n",
       "      <td>Guyancourt</td>\n",
       "      <td>France</td>\n",
       "      <td>EAME</td>\n",
       "      <td>1</td>\n",
       "      <td>problem fixed quickly. thank you</td>\n",
       "      <td>Very Satisfied</td>\n",
       "      <td>Positive</td>\n",
       "      <td>2024-11-01 10:32:00</td>\n",
       "      <td>2024</td>\n",
       "      <td>November</td>\n",
       "      <td>english</td>\n",
       "      <td>Positive</td>\n",
       "      <td>0.938008</td>\n",
       "    </tr>\n",
       "    <tr>\n",
       "      <th>2</th>\n",
       "      <td>INC19300529</td>\n",
       "      <td>Didsbury</td>\n",
       "      <td>United Kingdom</td>\n",
       "      <td>EAME</td>\n",
       "      <td>1</td>\n",
       "      <td>malcolm did a great job in problem solving and...</td>\n",
       "      <td>Very Satisfied</td>\n",
       "      <td>Positive</td>\n",
       "      <td>2024-11-01 14:10:00</td>\n",
       "      <td>2024</td>\n",
       "      <td>November</td>\n",
       "      <td>english</td>\n",
       "      <td>Positive</td>\n",
       "      <td>0.930640</td>\n",
       "    </tr>\n",
       "    <tr>\n",
       "      <th>3</th>\n",
       "      <td>INC19300258</td>\n",
       "      <td>Bracknell</td>\n",
       "      <td>United Kingdom</td>\n",
       "      <td>EAME</td>\n",
       "      <td>1</td>\n",
       "      <td>thanks for the swift and awesome support and f...</td>\n",
       "      <td>Very Satisfied</td>\n",
       "      <td>Positive</td>\n",
       "      <td>2024-11-01 15:03:00</td>\n",
       "      <td>2024</td>\n",
       "      <td>November</td>\n",
       "      <td>english</td>\n",
       "      <td>Positive</td>\n",
       "      <td>0.935296</td>\n",
       "    </tr>\n",
       "    <tr>\n",
       "      <th>4</th>\n",
       "      <td>INC19301011</td>\n",
       "      <td>Didsbury</td>\n",
       "      <td>United Kingdom</td>\n",
       "      <td>EAME</td>\n",
       "      <td>1</td>\n",
       "      <td>great support from malcolm as usual</td>\n",
       "      <td>Very Satisfied</td>\n",
       "      <td>Positive</td>\n",
       "      <td>2024-11-01 16:40:00</td>\n",
       "      <td>2024</td>\n",
       "      <td>November</td>\n",
       "      <td>english</td>\n",
       "      <td>Positive</td>\n",
       "      <td>0.929943</td>\n",
       "    </tr>\n",
       "  </tbody>\n",
       "</table>\n",
       "</div>"
      ],
      "text/plain": [
       "        Number        City         Country Region  \\\n",
       "0  INC19299231     Midrand    South Africa   EAME   \n",
       "1  INC19296281  Guyancourt          France   EAME   \n",
       "2  INC19300529    Didsbury  United Kingdom   EAME   \n",
       "3  INC19300258   Bracknell  United Kingdom   EAME   \n",
       "4  INC19301011    Didsbury  United Kingdom   EAME   \n",
       "\n",
       "   Average Response (calculated)  \\\n",
       "0                              1   \n",
       "1                              1   \n",
       "2                              1   \n",
       "3                              1   \n",
       "4                              1   \n",
       "\n",
       "                                         USS Comment    String value  \\\n",
       "0  speedy and excellent followup and communicatio...  Very Satisfied   \n",
       "1                   problem fixed quickly. thank you  Very Satisfied   \n",
       "2  malcolm did a great job in problem solving and...  Very Satisfied   \n",
       "3  thanks for the swift and awesome support and f...  Very Satisfied   \n",
       "4                great support from malcolm as usual  Very Satisfied   \n",
       "\n",
       "  Sentiment             Updated  Year Month-Year Language  \\\n",
       "0  Positive 2024-11-01 08:40:00  2024   November  english   \n",
       "1  Positive 2024-11-01 10:32:00  2024   November  english   \n",
       "2  Positive 2024-11-01 14:10:00  2024   November  english   \n",
       "3  Positive 2024-11-01 15:03:00  2024   November  english   \n",
       "4  Positive 2024-11-01 16:40:00  2024   November  english   \n",
       "\n",
       "  SA_Predicted Sentiment  Confidence  \n",
       "0               Positive    0.928918  \n",
       "1               Positive    0.938008  \n",
       "2               Positive    0.930640  \n",
       "3               Positive    0.935296  \n",
       "4               Positive    0.929943  "
      ]
     },
     "execution_count": 2,
     "metadata": {},
     "output_type": "execute_result"
    }
   ],
   "source": [
    "import pandas as pd\n",
    "\n",
    "file_path = \"C:/Users/User/UKM - Nur Azlin Binti Rusnan/Sem 3/Capstone Project/Dataset/2. Predictive Modeling Dataset/PM 7-1/PM-8.xlsx\"\n",
    "\n",
    "#read the excel file\n",
    "xls = pd.ExcelFile(file_path)\n",
    "\n",
    "#displat sheet name\n",
    "xls.sheet_names\n",
    "\n",
    "# load\n",
    "df = pd.read_excel(xls, sheet_name=\"Sheet1\")\n",
    "\n",
    "df.head()"
   ]
  },
  {
   "cell_type": "code",
   "execution_count": 3,
   "id": "f492306b",
   "metadata": {},
   "outputs": [
    {
     "data": {
      "image/png": "[encoded data removed]",
      "text/plain": [
       "<Figure size 800x500 with 1 Axes>"
      ]
     },
     "metadata": {},
     "output_type": "display_data"
    },
    {
     "data": {
      "text/plain": [
       "Sentiment\n",
       "Positive    12582\n",
       "Negative     1522\n",
       "Name: count, dtype: int64"
      ]
     },
     "execution_count": 3,
     "metadata": {},
     "output_type": "execute_result"
    }
   ],
   "source": [
    "# check for sentiment distribution\n",
    "\n",
    "import matplotlib.pyplot as plt\n",
    "\n",
    "sentiment_counts = df[\"Sentiment\"].value_counts()\n",
    "\n",
    "#plot\n",
    "plt.figure(figsize=(8,5))\n",
    "sentiment_counts.plot(kind=\"bar\", color=[\"green\",\"orange\",\"red\"])\n",
    "plt.title(\"Sentiment Distribution in Dataset\")\n",
    "plt.xlabel(\"Sentiment Label\")\n",
    "plt.ylabel(\"Number of Samples\")\n",
    "plt.xticks(rotation=0)\n",
    "plt.show()\n",
    "\n",
    "# Display class distribution counts\n",
    "sentiment_counts"
   ]
  },
  {
   "cell_type": "markdown",
   "id": "d7f48247",
   "metadata": {},
   "source": [
    "#### **The dataset is highly imbalanced, positive = 89% and negative = 11%**"
   ]
  },
  {
   "cell_type": "code",
   "execution_count": 4,
   "id": "574c6931",
   "metadata": {},
   "outputs": [
    {
     "data": {
      "text/html": [
       "<div>\n",
       "<style scoped>\n",
       "    .dataframe tbody tr th:only-of-type {\n",
       "        vertical-align: middle;\n",
       "    }\n",
       "\n",
       "    .dataframe tbody tr th {\n",
       "        vertical-align: top;\n",
       "    }\n",
       "\n",
       "    .dataframe thead th {\n",
       "        text-align: right;\n",
       "    }\n",
       "</style>\n",
       "<table border=\"1\" class=\"dataframe\">\n",
       "  <thead>\n",
       "    <tr style=\"text-align: right;\">\n",
       "      <th></th>\n",
       "      <th>USS Comment</th>\n",
       "      <th>Sentiment</th>\n",
       "      <th>label</th>\n",
       "    </tr>\n",
       "  </thead>\n",
       "  <tbody>\n",
       "    <tr>\n",
       "      <th>0</th>\n",
       "      <td>did not bring me what i wanted</td>\n",
       "      <td>Negative</td>\n",
       "      <td>1</td>\n",
       "    </tr>\n",
       "    <tr>\n",
       "      <th>1</th>\n",
       "      <td>i did work moving pieces from one workstation ...</td>\n",
       "      <td>Negative</td>\n",
       "      <td>1</td>\n",
       "    </tr>\n",
       "    <tr>\n",
       "      <th>2</th>\n",
       "      <td>issue not solved</td>\n",
       "      <td>Negative</td>\n",
       "      <td>1</td>\n",
       "    </tr>\n",
       "    <tr>\n",
       "      <th>3</th>\n",
       "      <td>long time reaction big rush close ticket witho...</td>\n",
       "      <td>Negative</td>\n",
       "      <td>1</td>\n",
       "    </tr>\n",
       "    <tr>\n",
       "      <th>4</th>\n",
       "      <td>closed without any visitation by local support...</td>\n",
       "      <td>Negative</td>\n",
       "      <td>1</td>\n",
       "    </tr>\n",
       "  </tbody>\n",
       "</table>\n",
       "</div>"
      ],
      "text/plain": [
       "                                         USS Comment Sentiment  label\n",
       "0                     did not bring me what i wanted  Negative      1\n",
       "1  i did work moving pieces from one workstation ...  Negative      1\n",
       "2                                   issue not solved  Negative      1\n",
       "3  long time reaction big rush close ticket witho...  Negative      1\n",
       "4  closed without any visitation by local support...  Negative      1"
      ]
     },
     "execution_count": 4,
     "metadata": {},
     "output_type": "execute_result"
    }
   ],
   "source": [
    "# balance the dataset using oversampling (Oversample negative class (duplicate to match positive samples))\n",
    "\n",
    "from sklearn.utils import resample\n",
    "\n",
    "#keep only relevant columns\n",
    "df = df[[\"USS Comment\", \"Sentiment\"]].dropna()\n",
    "\n",
    "# Convert sentiment labels to numerical values\n",
    "sentiment_mapping = {\"Positive\": 0, \"Negative\":1}\n",
    "df[\"label\"] = df[\"Sentiment\"].map(sentiment_mapping)\n",
    "\n",
    "# separate majority and minority classes\n",
    "df_positive = df[df[\"label\"] == 0]\n",
    "df_negative = df[df[\"label\"] == 1]\n",
    "\n",
    "# Oversample negative class (duplicate to match positive samples)\n",
    "df_negative_oversampled = resample(df_negative, replace=True, n_samples=len(df_positive), random_state=42)\n",
    "\n",
    "# Combine balanced dataset\n",
    "df_balanced = pd.concat([df_positive, df_negative_oversampled])\n",
    "\n",
    "# Shuffle dataset\n",
    "df_balanced = df_balanced.sample(frac=1, random_state=42).reset_index(drop=True)\n",
    "\n",
    "# Check new distribution\n",
    "balanced_counts = df_balanced[\"label\"].value_counts()\n",
    "\n",
    "# Display new class distribution\n",
    "df_balanced.head()"
   ]
  },
  {
   "cell_type": "code",
   "execution_count": 5,
   "id": "fb162e09",
   "metadata": {},
   "outputs": [
    {
     "data": {
      "text/plain": [
       "label\n",
       "1    12582\n",
       "0    12582\n",
       "Name: count, dtype: int64"
      ]
     },
     "execution_count": 5,
     "metadata": {},
     "output_type": "execute_result"
    }
   ],
   "source": [
    "balanced_counts"
   ]
  },
  {
   "cell_type": "code",
   "execution_count": 8,
   "id": "59d41264",
   "metadata": {},
   "outputs": [
    {
     "data": {
      "text/plain": [
       "(torch.Size([25164, 128]), torch.Size([25164]))"
      ]
     },
     "execution_count": 8,
     "metadata": {},
     "output_type": "execute_result"
    }
   ],
   "source": [
    "# Tokenizing the dataset\n",
    "\n",
    "from transformers import AutoTokenizer\n",
    "import torch\n",
    "\n",
    "\n",
    "# Load pre-trained BERT tokenizer\n",
    "tokenizer = AutoTokenizer.from_pretrained(\"bert-base-uncased\")\n",
    "\n",
    "# Tokenize the text data\n",
    "tokens = tokenizer(\n",
    "    df_balanced[\"USS Comment\"].tolist(),\n",
    "    padding=True,           # Ensures uniform length for all inputs\n",
    "    truncation=True,        # Truncate longer inputs to fit model max length\n",
    "    max_length=128,         # Max token length for BERT\n",
    "    return_tensors=\"pt\"     # Return as PyTorch tensors\n",
    ")\n",
    "\n",
    "# Convert labels to tensor format\n",
    "labels = torch.tensor(df_balanced[\"label\"].tolist())\n",
    "\n",
    "# Check tokenized data shape\n",
    "tokens[\"input_ids\"].shape, labels.shape\n"
   ]
  },
  {
   "cell_type": "code",
   "execution_count": 9,
   "id": "abe92425",
   "metadata": {},
   "outputs": [
    {
     "name": "stdout",
     "output_type": "stream",
     "text": [
      "Training samples: 20131, Validation samples: 5033\n"
     ]
    }
   ],
   "source": [
    "# Fine-tune BERT for sentiment classification\n",
    "\n",
    "# Step 1: Prepare the Dataset for Training\n",
    "#Before training, you need to:\n",
    "\n",
    "#Convert your dataset into a PyTorch Dataset format.\n",
    "#Split it into training and validation sets.\n",
    "\n",
    "from torch.utils.data import Dataset, DataLoader, random_split\n",
    "\n",
    "# Custom PyTorch Dataset\n",
    "class SentimentDataset(Dataset):\n",
    "    def __init__(self, encodings, labels):\n",
    "        self.encodings = encodings\n",
    "        self.labels = labels\n",
    "\n",
    "    def __len__(self):\n",
    "        return len(self.labels)\n",
    "\n",
    "    def __getitem__(self, idx):\n",
    "        item = {key: val[idx] for key, val in self.encodings.items()}\n",
    "        item[\"labels\"] = self.labels[idx]\n",
    "        return item\n",
    "\n",
    "# Create dataset\n",
    "dataset = SentimentDataset(tokens, labels)\n",
    "\n",
    "# Split into train (80%) and validation (20%) sets\n",
    "train_size = int(0.8 * len(dataset))\n",
    "val_size = len(dataset) - train_size\n",
    "train_dataset, val_dataset = random_split(dataset, [train_size, val_size])\n",
    "\n",
    "# Create DataLoaders\n",
    "train_loader = DataLoader(train_dataset, batch_size=16, shuffle=True)\n",
    "val_loader = DataLoader(val_dataset, batch_size=16, shuffle=False)\n",
    "\n",
    "print(f\"Training samples: {len(train_dataset)}, Validation samples: {len(val_dataset)}\")\n"
   ]
  },
  {
   "cell_type": "code",
   "execution_count": 10,
   "id": "b8bd1e02",
   "metadata": {},
   "outputs": [
    {
     "name": "stderr",
     "output_type": "stream",
     "text": [
      "Some weights of BertForSequenceClassification were not initialized from the model checkpoint at bert-base-uncased and are newly initialized: ['classifier.bias', 'classifier.weight']\n",
      "You should probably TRAIN this model on a down-stream task to be able to use it for predictions and inference.\n"
     ]
    }
   ],
   "source": [
    "# Step 2: Load Pre-Trained BERT for Fine-Tuning\n",
    "\n",
    "from transformers import AutoModelForSequenceClassification\n",
    "\n",
    "# Load pre-trained BERT with classification head (2 classes: Positive & Negative)\n",
    "model = AutoModelForSequenceClassification.from_pretrained(\"bert-base-uncased\", num_labels=2)\n"
   ]
  },
  {
   "cell_type": "code",
   "execution_count": 11,
   "id": "ba100849",
   "metadata": {},
   "outputs": [
    {
     "name": "stderr",
     "output_type": "stream",
     "text": [
      "C:\\Users\\User\\anaconda3\\Lib\\site-packages\\transformers\\training_args.py:1575: FutureWarning: `evaluation_strategy` is deprecated and will be removed in version 4.46 of 🤗 Transformers. Use `eval_strategy` instead\n",
      "  warnings.warn(\n"
     ]
    },
    {
     "name": "stdout",
     "output_type": "stream",
     "text": [
      "WARNING:tensorflow:From C:\\Users\\User\\anaconda3\\Lib\\site-packages\\tf_keras\\src\\losses.py:2976: The name tf.losses.sparse_softmax_cross_entropy is deprecated. Please use tf.compat.v1.losses.sparse_softmax_cross_entropy instead.\n",
      "\n"
     ]
    }
   ],
   "source": [
    "# Step 3: Define Training Parameters\n",
    "#You need to specify:\n",
    "\n",
    "#The learning rate.\n",
    "#The optimizer (AdamW).\n",
    "#The training schedule (number of epochs, evaluation steps, etc.).\n",
    "\n",
    "from transformers import TrainingArguments\n",
    "\n",
    "# Define training arguments\n",
    "training_args = TrainingArguments(\n",
    "    output_dir=\"./bert_sentiment_model\",\n",
    "    evaluation_strategy=\"epoch\",\n",
    "    save_strategy=\"epoch\",\n",
    "    per_device_train_batch_size=16,\n",
    "    per_device_eval_batch_size=16,\n",
    "    num_train_epochs=3,\n",
    "    weight_decay=0.01,\n",
    "    logging_dir=\"./logs\",\n",
    "    logging_steps=10,\n",
    ")\n"
   ]
  },
  {
   "cell_type": "code",
   "execution_count": 12,
   "id": "4cf13c74",
   "metadata": {},
   "outputs": [
    {
     "name": "stderr",
     "output_type": "stream",
     "text": [
      "C:\\Users\\User\\AppData\\Local\\Temp\\ipykernel_2076\\3721190410.py:10: FutureWarning: `tokenizer` is deprecated and will be removed in version 5.0.0 for `Trainer.__init__`. Use `processing_class` instead.\n",
      "  trainer = Trainer(\n"
     ]
    },
    {
     "data": {
      "text/html": [
       "\n",
       "    <div>\n",
       "      \n",
       "      <progress value='3777' max='3777' style='width:300px; height:20px; vertical-align: middle;'></progress>\n",
       "      [3777/3777 3:43:07, Epoch 3/3]\n",
       "    </div>\n",
       "    <table border=\"1\" class=\"dataframe\">\n",
       "  <thead>\n",
       " <tr style=\"text-align: left;\">\n",
       "      <th>Epoch</th>\n",
       "      <th>Training Loss</th>\n",
       "      <th>Validation Loss</th>\n",
       "    </tr>\n",
       "  </thead>\n",
       "  <tbody>\n",
       "    <tr>\n",
       "      <td>1</td>\n",
       "      <td>0.019300</td>\n",
       "      <td>0.077636</td>\n",
       "    </tr>\n",
       "    <tr>\n",
       "      <td>2</td>\n",
       "      <td>0.000600</td>\n",
       "      <td>0.047199</td>\n",
       "    </tr>\n",
       "    <tr>\n",
       "      <td>3</td>\n",
       "      <td>0.000100</td>\n",
       "      <td>0.029443</td>\n",
       "    </tr>\n",
       "  </tbody>\n",
       "</table><p>"
      ],
      "text/plain": [
       "<IPython.core.display.HTML object>"
      ]
     },
     "metadata": {},
     "output_type": "display_data"
    },
    {
     "data": {
      "text/plain": [
       "TrainOutput(global_step=3777, training_loss=0.049319805064608965, metrics={'train_runtime': 13391.5967, 'train_samples_per_second': 4.51, 'train_steps_per_second': 0.282, 'total_flos': 3972516491589120.0, 'train_loss': 0.049319805064608965, 'epoch': 3.0})"
      ]
     },
     "execution_count": 12,
     "metadata": {},
     "output_type": "execute_result"
    }
   ],
   "source": [
    "# 🔹 Step 4: Train the Model\n",
    "# Use the Hugging Face Trainer to fine-tune the model.\n",
    "\n",
    "from transformers import Trainer, DataCollatorWithPadding\n",
    "\n",
    "# Use a data collator for padding dynamically\n",
    "data_collator = DataCollatorWithPadding(tokenizer=tokenizer)\n",
    "\n",
    "# Define Trainer\n",
    "trainer = Trainer(\n",
    "    model=model,\n",
    "    args=training_args,\n",
    "    train_dataset=train_dataset,\n",
    "    eval_dataset=val_dataset,\n",
    "    tokenizer=tokenizer,\n",
    "    data_collator=data_collator,\n",
    ")\n",
    "\n",
    "# Start training\n",
    "trainer.train()"
   ]
  },
  {
   "cell_type": "code",
   "execution_count": 13,
   "id": "315addea",
   "metadata": {},
   "outputs": [
    {
     "name": "stdout",
     "output_type": "stream",
     "text": [
      "Fine-tuned model saved!\n"
     ]
    }
   ],
   "source": [
    "# Step 5: Save fine-tuned model\n",
    "model.save_pretrained(\"./bert_sentiment_model_llm\")\n",
    "tokenizer.save_pretrained(\"./bert_sentiment_model_llm\")\n",
    "\n",
    "print(\"Fine-tuned model saved!\")\n"
   ]
  },
  {
   "cell_type": "code",
   "execution_count": 14,
   "id": "3c1eb6e8",
   "metadata": {},
   "outputs": [
    {
     "data": {
      "text/html": [
       "\n",
       "    <div>\n",
       "      \n",
       "      <progress value='315' max='315' style='width:300px; height:20px; vertical-align: middle;'></progress>\n",
       "      [315/315 04:57]\n",
       "    </div>\n",
       "    "
      ],
      "text/plain": [
       "<IPython.core.display.HTML object>"
      ]
     },
     "metadata": {},
     "output_type": "display_data"
    },
    {
     "name": "stdout",
     "output_type": "stream",
     "text": [
      "Evaluation results:\n",
      "{'eval_loss': 0.029443344101309776, 'eval_runtime': 298.7789, 'eval_samples_per_second': 16.845, 'eval_steps_per_second': 1.054, 'epoch': 3.0}\n"
     ]
    }
   ],
   "source": [
    "# 6: 1. Evaluate Using the Trainer\n",
    "\n",
    "# Evaluate the model on the validation set\n",
    "eval_results = trainer.evaluate()\n",
    "print(\"Evaluation results:\")\n",
    "print(eval_results)\n"
   ]
  },
  {
   "cell_type": "code",
   "execution_count": 15,
   "id": "f8db5bc0",
   "metadata": {},
   "outputs": [
    {
     "name": "stdout",
     "output_type": "stream",
     "text": [
      "Text: The support team was very helpful and solved my issue quickly!\n",
      "Predicted Sentiment: Positive\n",
      "\n",
      "Text: I am not happy with the service; it took too long and was unresponsive.\n",
      "Predicted Sentiment: Negative\n",
      "\n"
     ]
    }
   ],
   "source": [
    "# 2. Generate Predictions for Sample Inputs\n",
    "\n",
    "def predict_sentiment(text):\n",
    "    # Tokenize the input text\n",
    "    inputs = tokenizer(text, return_tensors=\"pt\", padding=True, truncation=True, max_length=128)\n",
    "    \n",
    "    # Get model predictions\n",
    "    with torch.no_grad():\n",
    "        outputs = model(**inputs)\n",
    "    prediction = torch.argmax(outputs.logits, dim=1).item()\n",
    "    \n",
    "    # Map numerical labels back to sentiment strings\n",
    "    label_mapping = {0: \"Positive\", 1: \"Negative\"}\n",
    "    return label_mapping[prediction]\n",
    "\n",
    "# Test the model with a few example texts\n",
    "test_texts = [\n",
    "    \"The support team was very helpful and solved my issue quickly!\",\n",
    "    \"I am not happy with the service; it took too long and was unresponsive.\"\n",
    "]\n",
    "\n",
    "for text in test_texts:\n",
    "    sentiment = predict_sentiment(text)\n",
    "    print(f\"Text: {text}\\nPredicted Sentiment: {sentiment}\\n\")\n"
   ]
  },
  {
   "cell_type": "code",
   "execution_count": 16,
   "id": "64db10c5",
   "metadata": {},
   "outputs": [
    {
     "name": "stdout",
     "output_type": "stream",
     "text": [
      "Classification Report:\n",
      "               precision    recall  f1-score   support\n",
      "\n",
      "    Positive       1.00      0.99      1.00      2499\n",
      "    Negative       0.99      1.00      1.00      2534\n",
      "\n",
      "    accuracy                           1.00      5033\n",
      "   macro avg       1.00      1.00      1.00      5033\n",
      "weighted avg       1.00      1.00      1.00      5033\n",
      "\n"
     ]
    }
   ],
   "source": [
    "# 3. Compute Detailed Classification Metrics\n",
    "from sklearn.metrics import classification_report\n",
    "\n",
    "# Get predictions on the entire validation dataset\n",
    "all_preds = []\n",
    "all_labels = []\n",
    "\n",
    "model.eval()  # Set model to evaluation mode\n",
    "for batch in val_loader:\n",
    "    # Move inputs to the same device as model (if using GPU)\n",
    "    inputs = {key: value for key, value in batch.items() if key != \"labels\"}\n",
    "    with torch.no_grad():\n",
    "        outputs = model(**inputs)\n",
    "    predictions = torch.argmax(outputs.logits, dim=1)\n",
    "    all_preds.extend(predictions.cpu().numpy())\n",
    "    all_labels.extend(batch[\"labels\"].cpu().numpy())\n",
    "\n",
    "# Print the classification report\n",
    "report = classification_report(all_labels, all_preds, target_names=[\"Positive\", \"Negative\"])\n",
    "print(\"Classification Report:\\n\", report)"
   ]
  },
  {
   "cell_type": "code",
   "execution_count": 18,
   "id": "a66f6815",
   "metadata": {},
   "outputs": [
    {
     "data": {
      "text/plain": [
       "BertForSequenceClassification(\n",
       "  (bert): BertModel(\n",
       "    (embeddings): BertEmbeddings(\n",
       "      (word_embeddings): Embedding(30522, 768, padding_idx=0)\n",
       "      (position_embeddings): Embedding(512, 768)\n",
       "      (token_type_embeddings): Embedding(2, 768)\n",
       "      (LayerNorm): LayerNorm((768,), eps=1e-12, elementwise_affine=True)\n",
       "      (dropout): Dropout(p=0.1, inplace=False)\n",
       "    )\n",
       "    (encoder): BertEncoder(\n",
       "      (layer): ModuleList(\n",
       "        (0-11): 12 x BertLayer(\n",
       "          (attention): BertAttention(\n",
       "            (self): BertSdpaSelfAttention(\n",
       "              (query): Linear(in_features=768, out_features=768, bias=True)\n",
       "              (key): Linear(in_features=768, out_features=768, bias=True)\n",
       "              (value): Linear(in_features=768, out_features=768, bias=True)\n",
       "              (dropout): Dropout(p=0.1, inplace=False)\n",
       "            )\n",
       "            (output): BertSelfOutput(\n",
       "              (dense): Linear(in_features=768, out_features=768, bias=True)\n",
       "              (LayerNorm): LayerNorm((768,), eps=1e-12, elementwise_affine=True)\n",
       "              (dropout): Dropout(p=0.1, inplace=False)\n",
       "            )\n",
       "          )\n",
       "          (intermediate): BertIntermediate(\n",
       "            (dense): Linear(in_features=768, out_features=3072, bias=True)\n",
       "            (intermediate_act_fn): GELUActivation()\n",
       "          )\n",
       "          (output): BertOutput(\n",
       "            (dense): Linear(in_features=3072, out_features=768, bias=True)\n",
       "            (LayerNorm): LayerNorm((768,), eps=1e-12, elementwise_affine=True)\n",
       "            (dropout): Dropout(p=0.1, inplace=False)\n",
       "          )\n",
       "        )\n",
       "      )\n",
       "    )\n",
       "    (pooler): BertPooler(\n",
       "      (dense): Linear(in_features=768, out_features=768, bias=True)\n",
       "      (activation): Tanh()\n",
       "    )\n",
       "  )\n",
       "  (dropout): Dropout(p=0.1, inplace=False)\n",
       "  (classifier): Linear(in_features=768, out_features=2, bias=True)\n",
       ")"
      ]
     },
     "execution_count": 18,
     "metadata": {},
     "output_type": "execute_result"
    }
   ],
   "source": [
    "# Deploying Sentiment Analysis Chatbot in Jupyter Notebook\n",
    "\n",
    "# ✅ Step 1: Load the Fine-Tuned Model\n",
    "\n",
    "from transformers import AutoModelForSequenceClassification, AutoTokenizer\n",
    "import torch\n",
    "\n",
    "# Load fine-tuned model and tokenizer\n",
    "model_path = \"./bert_sentiment_model_llm\"\n",
    "tokenizer = AutoTokenizer.from_pretrained(model_path)\n",
    "model = AutoModelForSequenceClassification.from_pretrained(model_path)\n",
    "\n",
    "# Set model to evaluation mode\n",
    "model.eval()"
   ]
  },
  {
   "cell_type": "code",
   "execution_count": 19,
   "id": "5a3614d6",
   "metadata": {},
   "outputs": [],
   "source": [
    "# ✅ Step 2: Create a Sentiment Prediction Function\n",
    "\n",
    "def predict_sentiment(text):\n",
    "    # Tokenize input text\n",
    "    inputs = tokenizer(text, return_tensors=\"pt\", padding=True, truncation=True, max_length=128)\n",
    "    \n",
    "    # Get model predictions\n",
    "    with torch.no_grad():\n",
    "        outputs = model(**inputs)\n",
    "    prediction = torch.argmax(outputs.logits, dim=1).item()\n",
    "    \n",
    "    # Map numerical labels back to sentiment labels\n",
    "    sentiment_mapping = {0: \"Positive 😊\", 1: \"Negative 😞\"}\n",
    "    return sentiment_mapping[prediction]\n"
   ]
  },
  {
   "cell_type": "code",
   "execution_count": 20,
   "id": "4398a7da",
   "metadata": {},
   "outputs": [
    {
     "data": {
      "application/vnd.jupyter.widget-view+json": {
       "model_id": "4f518964cfe34f489ead8a228220b9b9",
       "version_major": 2,
       "version_minor": 0
      },
      "text/plain": [
       "Text(value='', placeholder='Enter your feedback...')"
      ]
     },
     "metadata": {},
     "output_type": "display_data"
    },
    {
     "data": {
      "application/vnd.jupyter.widget-view+json": {
       "model_id": "23a450bdebd645928f4c345f7325f59c",
       "version_major": 2,
       "version_minor": 0
      },
      "text/plain": [
       "Output()"
      ]
     },
     "metadata": {},
     "output_type": "display_data"
    }
   ],
   "source": [
    "# ✅ Step 3: Create an Interactive Chatbot in Jupyter Notebook\n",
    "\n",
    "import ipywidgets as widgets\n",
    "from IPython.display import display\n",
    "\n",
    "# Create input field and output display\n",
    "text_input = widgets.Text(placeholder=\"Enter your feedback...\")\n",
    "output = widgets.Output()\n",
    "\n",
    "def on_submit(_):\n",
    "    with output:\n",
    "        output.clear_output()\n",
    "        sentiment = predict_sentiment(text_input.value)\n",
    "        print(f\"Predicted Sentiment: {sentiment}\")\n",
    "\n",
    "# When user presses Enter, process input\n",
    "text_input.on_submit(on_submit)\n",
    "\n",
    "# Display chatbot UI\n",
    "display(text_input, output)\n"
   ]
  },
  {
   "cell_type": "code",
   "execution_count": null,
   "id": "86d12a7c",
   "metadata": {},
   "outputs": [],
   "source": []
  }
 ],
 "metadata": {
  "kernelspec": {
   "display_name": "Python 3 (ipykernel)",
   "language": "python",
   "name": "python3"
  },
  "language_info": {
   "codemirror_mode": {
    "name": "ipython",
    "version": 3
   },
   "file_extension": ".py",
   "mimetype": "text/x-python",
   "name": "python",
   "nbconvert_exporter": "python",
   "pygments_lexer": "ipython3",
   "version": "3.11.7"
  }
 },
 "nbformat": 4,
 "nbformat_minor": 5
}
